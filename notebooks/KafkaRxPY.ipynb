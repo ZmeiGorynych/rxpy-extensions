{
 "cells": [
  {
   "cell_type": "code",
   "execution_count": 1,
   "metadata": {
    "collapsed": false
   },
   "outputs": [],
   "source": [
    "from __future__ import print_function # only needed in Python 2\n",
    "import sys\n",
    "from rx import Observable, Observer\n",
    "from kafka import KafkaProducer, KafkaConsumer\n",
    "import io\n",
    "import avro.schema\n",
    "import avro.io\n",
    "# import local stuff\n",
    "sys.path.append('../rx')\n",
    "from KafkaObserver import KafkaObserver\n"
   ]
  },
  {
   "cell_type": "code",
   "execution_count": 2,
   "metadata": {
    "collapsed": false
   },
   "outputs": [
    {
     "data": {
      "text/plain": [
       "{u'value': 1}"
      ]
     },
     "execution_count": 2,
     "metadata": {},
     "output_type": "execute_result"
    }
   ],
   "source": [
    "# create avro serializer for our stream into byte arrays\n",
    "# properly speaking, should be integrated into KafkaObserver\n",
    "test_schema = '''\n",
    "{\n",
    " \"type\": \"record\",\n",
    " \"name\": \"Test\",\n",
    " \"fields\": [ {\"name\": \"value\",  \"type\": [\"int\",\"null\"]} ]\n",
    "}\n",
    "'''\n",
    "\n",
    "schema = avro.schema.parse(test_schema)\n",
    "\n",
    "def avroEncode(dict, schema):\n",
    "    writer = avro.io.DatumWriter(schema)\n",
    "    bytes_writer = io.BytesIO()\n",
    "    encoder = avro.io.BinaryEncoder(bytes_writer)\n",
    "    writer.write(dict, encoder)\n",
    "    return bytes_writer.getvalue()\n",
    "\n",
    "def avroDecode(msg,schema):\n",
    "    bytes_reader = io.BytesIO(msg)\n",
    "    decoder = avro.io.BinaryDecoder(bytes_reader)\n",
    "    reader = avro.io.DatumReader(schema)\n",
    "    return reader.read(decoder)\n",
    "\n",
    "    \n",
    "x=avroEncode({'value':1}, schema)\n",
    "avroDecode(x, schema)"
   ]
  },
  {
   "cell_type": "code",
   "execution_count": 3,
   "metadata": {
    "collapsed": false
   },
   "outputs": [],
   "source": [
    "topic='serializertest'\n",
    "kobs=KafkaObserver(KafkaProducer(),topic)\n",
    "obs=Observable.from_iterable(range(6,20,2)).map(lambda x: {'value':x})"
   ]
  },
  {
   "cell_type": "code",
   "execution_count": 4,
   "metadata": {
    "collapsed": false
   },
   "outputs": [
    {
     "name": "stdout",
     "output_type": "stream",
     "text": [
      "Sequence completed\n",
      "<KafkaObserver.KafkaObserver object at 0x7f89f691bb90>\n"
     ]
    },
    {
     "data": {
      "text/plain": [
       "<rx.disposables.anonymousdisposable.AnonymousDisposable at 0x7f89f691bed0>"
      ]
     },
     "execution_count": 4,
     "metadata": {},
     "output_type": "execute_result"
    }
   ],
   "source": [
    "obs.map(lambda x: avroEncode(x, schema)).subscribe(kobs) # successfully dumps byte-encoded records to Kafka"
   ]
  },
  {
   "cell_type": "code",
   "execution_count": 8,
   "metadata": {
    "collapsed": false
   },
   "outputs": [],
   "source": [
    "from kafka import KafkaConsumer\n",
    "consumer = KafkaConsumer(topic,group_id=None,auto_offset_reset='earliest')\n",
    "#consumer.subscribe(topic=None, pattern=\"my-topic\")\n",
    "#consumer.subscription()"
   ]
  },
  {
   "cell_type": "code",
   "execution_count": null,
   "metadata": {
    "collapsed": false
   },
   "outputs": [
    {
     "name": "stdout",
     "output_type": "stream",
     "text": [
      "{u'value': 8}\n",
      "{u'value': 10}\n",
      "{u'value': 12}\n",
      "{u'value': 14}\n",
      "{u'value': 16}\n",
      "{u'value': 18}\n"
     ]
    }
   ],
   "source": [
    "# this one blocks while waiting for messages - how to transform it to a non-blocking version?\n",
    "for msg in consumer:\n",
    "    print(avroDecode(msg.value,schema))\n",
    "  "
   ]
  }
 ],
 "metadata": {
  "kernelspec": {
   "display_name": "Python 2",
   "language": "python",
   "name": "python2"
  },
  "language_info": {
   "codemirror_mode": {
    "name": "ipython",
    "version": 2
   },
   "file_extension": ".py",
   "mimetype": "text/x-python",
   "name": "python",
   "nbconvert_exporter": "python",
   "pygments_lexer": "ipython2",
   "version": "2.7.12"
  }
 },
 "nbformat": 4,
 "nbformat_minor": 1
}
