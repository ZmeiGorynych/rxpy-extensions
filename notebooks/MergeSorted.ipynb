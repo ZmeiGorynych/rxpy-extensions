{
 "cells": [
  {
   "cell_type": "code",
   "execution_count": null,
   "metadata": {
    "collapsed": false
   },
   "outputs": [],
   "source": [
    "from __future__ import print_function # only needed in Python 2\n",
    "import rx\n",
    "import sys\n",
    "from rx import Observable, Observer\n",
    "sys.path.append('../rx')\n",
    "import merge_sorted"
   ]
  },
  {
   "cell_type": "markdown",
   "metadata": {},
   "source": [
    "# merge_sorted \n",
    "\n",
    "merge_sorted merges two or more individually sorted streams so that the result contains all the records from the incoming streams, and is also sorted. \n",
    "\n",
    "It takes several streams assumed to be ordere and a comparator function (min by default) that selects the 'smaller' of 2 records. It waits until a value is available for every uncompleted stream (ignoring ones that have completed), then finds the 'smallest' of those values using the comparator function, removes that value from its incoming queue, and emits it; then repeats. \n",
    "\n",
    "If streams contain 'equal' records, their ordering in the output stream is indeterminate.\n"
   ]
  },
  {
   "cell_type": "code",
   "execution_count": null,
   "metadata": {
    "collapsed": false
   },
   "outputs": [],
   "source": [
    "a=Observable.from_iterable(range(1,10,2))\n",
    "b=Observable.from_iterable(range(4,16,2))\n",
    "c=Observable.from_iterable(range(6,20,2))\n",
    "\n",
    "a.merge_sorted(b,c).subscribe(print)"
   ]
  },
  {
   "cell_type": "code",
   "execution_count": null,
   "metadata": {
    "collapsed": false
   },
   "outputs": [],
   "source": [
    "# using a list of Observables as input\n",
    "a.merge_sorted([b,c]).subscribe(print)"
   ]
  },
  {
   "cell_type": "code",
   "execution_count": null,
   "metadata": {
    "collapsed": false
   },
   "outputs": [],
   "source": [
    "# and now as class function\n",
    "Observable.merge_sorted([a,b,c]).subscribe(print)"
   ]
  },
  {
   "cell_type": "code",
   "execution_count": null,
   "metadata": {
    "collapsed": false
   },
   "outputs": [],
   "source": [
    "# using a custom selector function\n",
    "a1=Observable.from_iterable(range(1,10,2)).map(lambda x: {'value':x})\n",
    "b1=Observable.from_iterable(range(4,16,2)).map(lambda x: {'value':x})\n",
    "\n",
    "def comp(x,y): return x if x['value'] < y['value'] else y\n",
    "Observable.merge_sorted(a1,b1,selector=comp).subscribe(print)\n"
   ]
  }
 ],
 "metadata": {
  "kernelspec": {
   "display_name": "Python 2",
   "language": "python",
   "name": "python2"
  },
  "language_info": {
   "codemirror_mode": {
    "name": "ipython",
    "version": 2
   },
   "file_extension": ".py",
   "mimetype": "text/x-python",
   "name": "python",
   "nbconvert_exporter": "python",
   "pygments_lexer": "ipython2",
   "version": "2.7.12"
  }
 },
 "nbformat": 4,
 "nbformat_minor": 0
}
