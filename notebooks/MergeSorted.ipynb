{
 "cells": [
  {
   "cell_type": "code",
   "execution_count": 1,
   "metadata": {
    "collapsed": false
   },
   "outputs": [],
   "source": [
    "from __future__ import print_function # only needed in Python 2\n",
    "import rx\n",
    "import sys\n",
    "from rx import Observable, Observer\n",
    "sys.path.append('../rx')\n",
    "import merge_sorted\n",
    "from rx import Observable, Observer"
   ]
  },
  {
   "cell_type": "markdown",
   "metadata": {},
   "source": [
    "# merge_sorted \n",
    "\n",
    "merge_sorted merges two or more individually sorted streams so that the result contains all the records from the incoming streams, and is also sorted. \n",
    "\n",
    "It takes several streams assumed to be ordere and a comparator function (min by default) that selects the 'smaller' of 2 records. It waits until a value is available for every uncompleted stream (ignoring ones that have completed), then finds the 'smallest' of those values using the comparator function, removes that value from its incoming queue, and emits it; then repeats. \n",
    "\n",
    "If streams contain 'equal' records, their ordering in the output stream is indeterminate.\n"
   ]
  },
  {
   "cell_type": "code",
   "execution_count": 2,
   "metadata": {
    "collapsed": false
   },
   "outputs": [
    {
     "name": "stdout",
     "output_type": "stream",
     "text": [
      "1\n",
      "3\n",
      "4\n",
      "5\n",
      "6\n",
      "6\n",
      "7\n",
      "8\n",
      "8\n",
      "9\n",
      "10\n",
      "10\n",
      "12\n",
      "12\n",
      "14\n",
      "14\n",
      "16\n",
      "18\n"
     ]
    },
    {
     "data": {
      "text/plain": [
       "<rx.disposables.anonymousdisposable.AnonymousDisposable at 0x7f10e80a7ef0>"
      ]
     },
     "execution_count": 2,
     "metadata": {},
     "output_type": "execute_result"
    }
   ],
   "source": [
    "a=Observable.from_iterable(range(1,10,2))\n",
    "b=Observable.from_iterable(range(4,16,2))\n",
    "c=Observable.from_iterable(range(6,20,2))\n",
    "\n",
    "a.merge_sorted(b,c).subscribe(print)"
   ]
  },
  {
   "cell_type": "code",
   "execution_count": 3,
   "metadata": {
    "collapsed": false
   },
   "outputs": [
    {
     "name": "stdout",
     "output_type": "stream",
     "text": [
      "1\n",
      "3\n",
      "4\n",
      "5\n",
      "6\n",
      "6\n",
      "7\n",
      "8\n",
      "8\n",
      "9\n",
      "10\n",
      "10\n",
      "12\n",
      "12\n",
      "14\n",
      "14\n",
      "16\n",
      "18\n"
     ]
    },
    {
     "data": {
      "text/plain": [
       "<rx.disposables.anonymousdisposable.AnonymousDisposable at 0x7f10e80a7be0>"
      ]
     },
     "execution_count": 3,
     "metadata": {},
     "output_type": "execute_result"
    }
   ],
   "source": [
    "# using a list of Observables as input\n",
    "a.merge_sorted([b,c]).subscribe(print)"
   ]
  },
  {
   "cell_type": "code",
   "execution_count": 4,
   "metadata": {
    "collapsed": false
   },
   "outputs": [
    {
     "name": "stdout",
     "output_type": "stream",
     "text": [
      "1\n",
      "3\n",
      "4\n",
      "5\n",
      "6\n",
      "6\n",
      "7\n",
      "8\n",
      "8\n",
      "9\n",
      "10\n",
      "10\n",
      "12\n",
      "12\n",
      "14\n",
      "14\n",
      "16\n",
      "18\n"
     ]
    },
    {
     "data": {
      "text/plain": [
       "<rx.disposables.anonymousdisposable.AnonymousDisposable at 0x7f10e81ed518>"
      ]
     },
     "execution_count": 4,
     "metadata": {},
     "output_type": "execute_result"
    }
   ],
   "source": [
    "# and now as class function\n",
    "Observable.merge_sorted([a,b,c]).subscribe(print)"
   ]
  },
  {
   "cell_type": "code",
   "execution_count": 5,
   "metadata": {
    "collapsed": false
   },
   "outputs": [
    {
     "name": "stdout",
     "output_type": "stream",
     "text": [
      "{'value': 1}\n",
      "{'value': 3}\n",
      "{'value': 4}\n",
      "{'value': 5}\n",
      "{'value': 6}\n",
      "{'value': 7}\n",
      "{'value': 8}\n",
      "{'value': 9}\n",
      "{'value': 10}\n",
      "{'value': 12}\n",
      "{'value': 14}\n"
     ]
    },
    {
     "data": {
      "text/plain": [
       "<rx.disposables.anonymousdisposable.AnonymousDisposable at 0x7f10e80d1358>"
      ]
     },
     "execution_count": 5,
     "metadata": {},
     "output_type": "execute_result"
    }
   ],
   "source": [
    "# using a custom selector function\n",
    "a1=Observable.from_iterable(range(1,10,2)).map(lambda x: {'value':x})\n",
    "b1=Observable.from_iterable(range(4,16,2)).map(lambda x: {'value':x})\n",
    "\n",
    "def comp(x,y): return x if x['value'] < y['value'] else y\n",
    "Observable.merge_sorted(a1,b1,selector=comp).subscribe(print)\n"
   ]
  }
 ],
 "metadata": {
  "anaconda-cloud": {},
  "kernelspec": {
   "display_name": "Python [conda root]",
   "language": "python",
   "name": "conda-root-py"
  },
  "language_info": {
   "codemirror_mode": {
    "name": "ipython",
    "version": 3
   },
   "file_extension": ".py",
   "mimetype": "text/x-python",
   "name": "python",
   "nbconvert_exporter": "python",
   "pygments_lexer": "ipython3",
   "version": "3.5.2"
  }
 },
 "nbformat": 4,
 "nbformat_minor": 0
}
