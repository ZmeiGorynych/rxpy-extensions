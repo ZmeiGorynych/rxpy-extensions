{
 "cells": [
  {
   "cell_type": "code",
   "execution_count": 1,
   "metadata": {
    "collapsed": true
   },
   "outputs": [],
   "source": [
    "import asyncio\n",
    "import aiokafka # requires kafka version >= 9 \n",
    "from kafka import KafkaProducer, KafkaConsumer\n",
    "\n",
    "topic='test_topic_1'"
   ]
  },
  {
   "cell_type": "code",
   "execution_count": 2,
   "metadata": {
    "collapsed": false
   },
   "outputs": [
    {
     "data": {
      "text/plain": [
       "'Hello, World'"
      ]
     },
     "execution_count": 2,
     "metadata": {},
     "output_type": "execute_result"
    }
   ],
   "source": [
    "# Try just reading one record from Kafka\n",
    "consumer = KafkaConsumer(topic,auto_offset_reset='earliest', enable_auto_commit=False,consumer_timeout_ms=100, value_deserializer=lambda x: x.decode('utf-8'))\n",
    "next(consumer).value"
   ]
  },
  {
   "cell_type": "code",
   "execution_count": 3,
   "metadata": {
    "collapsed": false
   },
   "outputs": [
    {
     "name": "stderr",
     "output_type": "stream",
     "text": [
      "Task exception was never retrieved\n",
      "future: <Task finished coro=<wait_for() done, defined at /home/egor/anaconda3/lib/python3.5/asyncio/tasks.py:355> exception=CorrelationIdError('Correlation ids do not match: sent 1, recv 2',)>\n",
      "Traceback (most recent call last):\n",
      "  File \"/home/egor/anaconda3/lib/python3.5/asyncio/tasks.py\", line 239, in _step\n",
      "    result = coro.send(None)\n",
      "  File \"/home/egor/anaconda3/lib/python3.5/asyncio/tasks.py\", line 392, in wait_for\n",
      "    return fut.result()\n",
      "  File \"/home/egor/anaconda3/lib/python3.5/asyncio/futures.py\", line 274, in result\n",
      "    raise self._exception\n",
      "kafka.errors.CorrelationIdError: CorrelationIdError: Correlation ids do not match: sent 1, recv 2\n"
     ]
    },
    {
     "ename": "KeyboardInterrupt",
     "evalue": "",
     "output_type": "error",
     "traceback": [
      "\u001b[0;31m---------------------------------------------------------------------------\u001b[0m",
      "\u001b[0;31mKeyboardInterrupt\u001b[0m                         Traceback (most recent call last)",
      "\u001b[0;32m<ipython-input-3-3346a0f1fabb>\u001b[0m in \u001b[0;36m<module>\u001b[0;34m()\u001b[0m\n\u001b[1;32m     20\u001b[0m \u001b[0mc_task\u001b[0m \u001b[0;34m=\u001b[0m \u001b[0mloop\u001b[0m\u001b[0;34m.\u001b[0m\u001b[0mcreate_task\u001b[0m\u001b[0;34m(\u001b[0m\u001b[0mconsume_task\u001b[0m\u001b[0;34m(\u001b[0m\u001b[0mconsumer\u001b[0m\u001b[0;34m)\u001b[0m\u001b[0;34m)\u001b[0m\u001b[0;34m\u001b[0m\u001b[0m\n\u001b[1;32m     21\u001b[0m \u001b[0;32mtry\u001b[0m\u001b[0;34m:\u001b[0m\u001b[0;34m\u001b[0m\u001b[0m\n\u001b[0;32m---> 22\u001b[0;31m     \u001b[0mloop\u001b[0m\u001b[0;34m.\u001b[0m\u001b[0mrun_forever\u001b[0m\u001b[0;34m(\u001b[0m\u001b[0;34m)\u001b[0m\u001b[0;34m\u001b[0m\u001b[0m\n\u001b[0m\u001b[1;32m     23\u001b[0m \u001b[0;32mfinally\u001b[0m\u001b[0;34m:\u001b[0m\u001b[0;34m\u001b[0m\u001b[0m\n\u001b[1;32m     24\u001b[0m     \u001b[0;31m# Will gracefully leave consumer group; perform autocommit if enabled\u001b[0m\u001b[0;34m\u001b[0m\u001b[0;34m\u001b[0m\u001b[0m\n",
      "\u001b[0;32m/home/egor/anaconda3/lib/python3.5/asyncio/base_events.py\u001b[0m in \u001b[0;36mrun_forever\u001b[0;34m(self)\u001b[0m\n\u001b[1;32m    343\u001b[0m         \u001b[0;32mtry\u001b[0m\u001b[0;34m:\u001b[0m\u001b[0;34m\u001b[0m\u001b[0m\n\u001b[1;32m    344\u001b[0m             \u001b[0;32mwhile\u001b[0m \u001b[0;32mTrue\u001b[0m\u001b[0;34m:\u001b[0m\u001b[0;34m\u001b[0m\u001b[0m\n\u001b[0;32m--> 345\u001b[0;31m                 \u001b[0mself\u001b[0m\u001b[0;34m.\u001b[0m\u001b[0m_run_once\u001b[0m\u001b[0;34m(\u001b[0m\u001b[0;34m)\u001b[0m\u001b[0;34m\u001b[0m\u001b[0m\n\u001b[0m\u001b[1;32m    346\u001b[0m                 \u001b[0;32mif\u001b[0m \u001b[0mself\u001b[0m\u001b[0;34m.\u001b[0m\u001b[0m_stopping\u001b[0m\u001b[0;34m:\u001b[0m\u001b[0;34m\u001b[0m\u001b[0m\n\u001b[1;32m    347\u001b[0m                     \u001b[0;32mbreak\u001b[0m\u001b[0;34m\u001b[0m\u001b[0m\n",
      "\u001b[0;32m/home/egor/anaconda3/lib/python3.5/asyncio/base_events.py\u001b[0m in \u001b[0;36m_run_once\u001b[0;34m(self)\u001b[0m\n\u001b[1;32m   1274\u001b[0m                            timeout * 1e3, dt * 1e3)\n\u001b[1;32m   1275\u001b[0m         \u001b[0;32melse\u001b[0m\u001b[0;34m:\u001b[0m\u001b[0;34m\u001b[0m\u001b[0m\n\u001b[0;32m-> 1276\u001b[0;31m             \u001b[0mevent_list\u001b[0m \u001b[0;34m=\u001b[0m \u001b[0mself\u001b[0m\u001b[0;34m.\u001b[0m\u001b[0m_selector\u001b[0m\u001b[0;34m.\u001b[0m\u001b[0mselect\u001b[0m\u001b[0;34m(\u001b[0m\u001b[0mtimeout\u001b[0m\u001b[0;34m)\u001b[0m\u001b[0;34m\u001b[0m\u001b[0m\n\u001b[0m\u001b[1;32m   1277\u001b[0m         \u001b[0mself\u001b[0m\u001b[0;34m.\u001b[0m\u001b[0m_process_events\u001b[0m\u001b[0;34m(\u001b[0m\u001b[0mevent_list\u001b[0m\u001b[0;34m)\u001b[0m\u001b[0;34m\u001b[0m\u001b[0m\n\u001b[1;32m   1278\u001b[0m \u001b[0;34m\u001b[0m\u001b[0m\n",
      "\u001b[0;32m/home/egor/anaconda3/lib/python3.5/selectors.py\u001b[0m in \u001b[0;36mselect\u001b[0;34m(self, timeout)\u001b[0m\n\u001b[1;32m    439\u001b[0m             \u001b[0mready\u001b[0m \u001b[0;34m=\u001b[0m \u001b[0;34m[\u001b[0m\u001b[0;34m]\u001b[0m\u001b[0;34m\u001b[0m\u001b[0m\n\u001b[1;32m    440\u001b[0m             \u001b[0;32mtry\u001b[0m\u001b[0;34m:\u001b[0m\u001b[0;34m\u001b[0m\u001b[0m\n\u001b[0;32m--> 441\u001b[0;31m                 \u001b[0mfd_event_list\u001b[0m \u001b[0;34m=\u001b[0m \u001b[0mself\u001b[0m\u001b[0;34m.\u001b[0m\u001b[0m_epoll\u001b[0m\u001b[0;34m.\u001b[0m\u001b[0mpoll\u001b[0m\u001b[0;34m(\u001b[0m\u001b[0mtimeout\u001b[0m\u001b[0;34m,\u001b[0m \u001b[0mmax_ev\u001b[0m\u001b[0;34m)\u001b[0m\u001b[0;34m\u001b[0m\u001b[0m\n\u001b[0m\u001b[1;32m    442\u001b[0m             \u001b[0;32mexcept\u001b[0m \u001b[0mInterruptedError\u001b[0m\u001b[0;34m:\u001b[0m\u001b[0;34m\u001b[0m\u001b[0m\n\u001b[1;32m    443\u001b[0m                 \u001b[0;32mreturn\u001b[0m \u001b[0mready\u001b[0m\u001b[0;34m\u001b[0m\u001b[0m\n",
      "\u001b[0;31mKeyboardInterrupt\u001b[0m: "
     ]
    }
   ],
   "source": [
    "# examples from https://github.com/aio-libs/aiokafka\n",
    "\n",
    "from kafka.common import KafkaError\n",
    "from aiokafka import AIOKafkaConsumer\n",
    "\n",
    "@asyncio.coroutine\n",
    "def consume_task(consumer):\n",
    "    while True:\n",
    "        try:\n",
    "            msg = yield from consumer.getone()\n",
    "            print(\"consumed: \", msg.topic, msg.partition, msg.offset,\n",
    "                  msg.key, msg.value, msg.timestamp)\n",
    "        except KafkaError as err:\n",
    "            print(\"error while consuming message: \", err)\n",
    "\n",
    "loop = asyncio.get_event_loop()\n",
    "consumer = AIOKafkaConsumer(\n",
    "    'test_topic_1', loop=loop)\n",
    "#    'topic1', 'topic2', loop=loop, bootstrap_servers='localhost:1234')\n",
    "# Bootstrap client, will get initial cluster metadata\n",
    "loop.run_until_complete(consumer.start())\n",
    "c_task = loop.create_task(consume_task(consumer))\n",
    "try:\n",
    "    loop.run_forever()\n",
    "finally:\n",
    "    # Will gracefully leave consumer group; perform autocommit if enabled\n",
    "    loop.run_until_complete(consumer.stop())\n",
    "    c_task.cancel()\n",
    "    #loop.close()\n"
   ]
  },
  {
   "cell_type": "code",
   "execution_count": 4,
   "metadata": {
    "collapsed": false
   },
   "outputs": [
    {
     "name": "stderr",
     "output_type": "stream",
     "text": [
      "Task exception was never retrieved\n",
      "future: <Task finished coro=<wait_for() done, defined at /home/egor/anaconda3/lib/python3.5/asyncio/tasks.py:355> exception=CorrelationIdError('Correlation ids do not match: sent 1, recv 2',)>\n",
      "Traceback (most recent call last):\n",
      "  File \"/home/egor/anaconda3/lib/python3.5/asyncio/tasks.py\", line 239, in _step\n",
      "    result = coro.send(None)\n",
      "  File \"/home/egor/anaconda3/lib/python3.5/asyncio/tasks.py\", line 392, in wait_for\n",
      "    return fut.result()\n",
      "  File \"/home/egor/anaconda3/lib/python3.5/asyncio/futures.py\", line 274, in result\n",
      "    raise self._exception\n",
      "kafka.errors.CorrelationIdError: CorrelationIdError: Correlation ids do not match: sent 1, recv 2\n"
     ]
    },
    {
     "name": "stdout",
     "output_type": "stream",
     "text": [
      "Message produced: partition 0; offset 8\n"
     ]
    }
   ],
   "source": [
    "import asyncio\n",
    "from aiokafka import AIOKafkaProducer\n",
    "\n",
    "@asyncio.coroutine\n",
    "def produce(loop):\n",
    "    # Just adds message to sending queue\n",
    "    future = yield from producer.send('foobar', b'some_message_bytes')\n",
    "    # waiting for message to be delivered\n",
    "    resp = yield from future\n",
    "    print(\"Message produced: partition {}; offset {}\".format(\n",
    "          resp.partition, resp.offset))\n",
    "    # Also can use a helper to send and wait in 1 call\n",
    "    resp = yield from producer.send_and_wait(\n",
    "        'foobar', key=b'foo', value=b'bar')\n",
    "    #resp = yield from producer.send_and_wait(\n",
    "    #   'foobar', b'message for partition 1', partition=1)\n",
    "\n",
    "loop = asyncio.get_event_loop()\n",
    "producer = AIOKafkaProducer(loop=loop, bootstrap_servers='localhost:9092')\n",
    "# Bootstrap client, will get initial cluster metadata\n",
    "loop.run_until_complete(producer.start())\n",
    "loop.run_until_complete(produce(loop))\n",
    "# Wait for all pending messages to be delivered or expire\n",
    "loop.run_until_complete(producer.stop())\n",
    "#loop.close()"
   ]
  }
 ],
 "metadata": {
  "anaconda-cloud": {},
  "kernelspec": {
   "display_name": "Python [conda root]",
   "language": "python",
   "name": "conda-root-py"
  },
  "language_info": {
   "codemirror_mode": {
    "name": "ipython",
    "version": 3
   },
   "file_extension": ".py",
   "mimetype": "text/x-python",
   "name": "python",
   "nbconvert_exporter": "python",
   "pygments_lexer": "ipython3",
   "version": "3.5.2"
  }
 },
 "nbformat": 4,
 "nbformat_minor": 1
}
